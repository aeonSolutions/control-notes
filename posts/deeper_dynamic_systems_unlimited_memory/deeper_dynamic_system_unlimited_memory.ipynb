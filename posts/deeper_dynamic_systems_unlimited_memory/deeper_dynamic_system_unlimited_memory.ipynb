{
 "cells": [
  {
   "cell_type": "markdown",
   "metadata": {
    "slideshow": {
     "slide_type": "skip"
    }
   },
   "source": [
    "The cell below produces a button that toggles code in this notebook on and off."
   ]
  },
  {
   "cell_type": "code",
   "execution_count": 5,
   "metadata": {
    "slideshow": {
     "slide_type": "skip"
    }
   },
   "outputs": [
    {
     "data": {
      "text/html": [
       "<script>\n",
       "code_show=true; \n",
       "function code_toggle() {\n",
       " if (code_show){\n",
       " $('div.input').hide();\n",
       " } else {\n",
       " $('div.input').show();\n",
       " }\n",
       " code_show = !code_show\n",
       "} \n",
       "$( document ).ready(code_toggle);\n",
       "</script>\n",
       "<form action=\"javascript:code_toggle()\"><input type=\"submit\" value=\"Click here to toggle on/off the raw code.\"></form>"
      ],
      "text/plain": [
       "<IPython.core.display.HTML object>"
      ]
     },
     "execution_count": 5,
     "metadata": {},
     "output_type": "execute_result"
    }
   ],
   "source": [
    "from IPython.display import HTML\n",
    "\n",
    "HTML('''<script>\n",
    "code_show=true; \n",
    "function code_toggle() {\n",
    " if (code_show){\n",
    " $('div.input').hide();\n",
    " } else {\n",
    " $('div.input').show();\n",
    " }\n",
    " code_show = !code_show\n",
    "} \n",
    "$( document ).ready(code_toggle);\n",
    "</script>\n",
    "<form action=\"javascript:code_toggle()\"><input type=\"submit\" value=\"Click here to toggle on/off the raw code.\"></form>''')\n",
    "\n"
   ]
  },
  {
   "cell_type": "markdown",
   "metadata": {},
   "source": [
    "# Deeper dynamic systems with unlimited memory"
   ]
  },
  {
   "cell_type": "markdown",
   "metadata": {},
   "source": [
    "### Running average computation"
   ]
  },
  {
   "cell_type": "markdown",
   "metadata": {},
   "source": [
    "- running average\n",
    "\n",
    "\n",
    "\\begin{equation}\n",
    "h_t^{\\text{ave}} = \\frac{1}{t}\\sum_{j=1}^tx_j \n",
    "\\end{equation}\n",
    "\n",
    "- can be computed more efficiently in an online fashion\n",
    "\n",
    "\n",
    "\\begin{equation}\n",
    "h_{t}^{\\text{ave}} = \\frac{t-1}{t}h_{t-1}^{\\text{ave}} + \\frac{1}{t}x_t\n",
    "\\end{equation}"
   ]
  },
  {
   "cell_type": "markdown",
   "metadata": {},
   "source": [
    "### Running variance computation"
   ]
  },
  {
   "cell_type": "markdown",
   "metadata": {},
   "source": [
    "- running variance\n",
    "\n",
    "\\begin{equation}\n",
    "h_t^{\\text{var}} = \\frac{1}{t}\\sum_{j=1}^t\\left(x_j - h_t^{\\text{ave}}\\right)^2\n",
    "\\end{equation}\n",
    "\n",
    "\n",
    "- can be computed more efficiently in an online fashion\n",
    "\n",
    "\\begin{equation}\n",
    "h_{t}^{\\text{var}} = \\frac{t-1}{t}h_{t-1}^{\\text{var}} + \\frac{1}{t}\\left(x_t^{\\,} - h_{t}^{\\text{ave}}\\right)\\left(x_t^{\\,} - h_{t-1}^{\\text{ave}}\\right)\n",
    "\\end{equation}"
   ]
  },
  {
   "cell_type": "markdown",
   "metadata": {},
   "source": [
    "[Higher order statistics of an input series can be computed in an online fashion as well.](https://en.wikipedia.org/wiki/Algorithms_for_calculating_variance#Welford's_Online_algorithm)"
   ]
  }
 ],
 "metadata": {
  "celltoolbar": "Slideshow",
  "kernelspec": {
   "display_name": "Python 3",
   "language": "python",
   "name": "python3"
  },
  "language_info": {
   "codemirror_mode": {
    "name": "ipython",
    "version": 3
   },
   "file_extension": ".py",
   "mimetype": "text/x-python",
   "name": "python",
   "nbconvert_exporter": "python",
   "pygments_lexer": "ipython3",
   "version": "3.7.1"
  }
 },
 "nbformat": 4,
 "nbformat_minor": 2
}
