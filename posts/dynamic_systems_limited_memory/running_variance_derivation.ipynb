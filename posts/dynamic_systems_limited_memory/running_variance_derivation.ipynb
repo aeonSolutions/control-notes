{
 "cells": [
  {
   "cell_type": "markdown",
   "metadata": {},
   "source": [
    "## Computing a running variance the smart way"
   ]
  },
  {
   "cell_type": "markdown",
   "metadata": {},
   "source": [
    "Suppose we compute the running mean of a list of numbers $x_1,\\,x_2,\\,...,x_p,...$ when the $p^{th}$ number $x_p$ arrives the *smart way* (as shown above)\n",
    "\n",
    "\\begin{equation}\n",
    "h_{p}^{\\text{ave}} = \\frac{p-1}{p}h_{p-1}^{\\text{ave}} + \\frac{1}{p}x_p\n",
    "\\end{equation}\n",
    "\n",
    "and then - on top of this - we would like to compute the *running variance* of our ever-increasing list of numbers.  If we used the standard formula for variance we would compute\n",
    "\n",
    "\\begin{equation}\n",
    "h_p^{\\text{var}} = \\frac{1}{p}\\sum_{j=1}^p\\left(x_j - h_p^{\\text{ave}}\\right)^2\n",
    "\\end{equation}\n",
    "\n",
    "each time a new point $x_p$ arrived.  However computing the running variance this way would be wasteful - both in terms of storage (we would need to store all of the previous input points) and computation (we're repeating the same sorts of computation over and over again) - in complete analogy to the use of the standard formula when computing the running mean (as we saw above). "
   ]
  },
  {
   "cell_type": "markdown",
   "metadata": {},
   "source": [
    "Multiplying both sides of Equation (2) by $p$ we have \n",
    "\n",
    "\\begin{equation}\n",
    "p\\,h_p^{\\text{var}} = \\sum_{j=1}^p\\left(x_j - h_p^{\\text{ave}}\\right)^2\n",
    "\\end{equation}\n",
    "\n",
    "Plugging in $p-1$ in place of $p$ in the Equation above yields\n",
    "\n",
    "\\begin{equation}\n",
    "\\left(p-1\\right)\\,h_{p-1}^{\\text{var}} = \\sum_{j=1}^{p-1}\\left(x_j - h_{p-1}^{\\text{ave}}\\right)^2\n",
    "\\end{equation}\n",
    "\n",
    "Subtracting (4) from (3), and simple re-arrangement of terms gives\n",
    "\n",
    "\\begin{equation}\n",
    "\\begin{split}\n",
    "p\\,h_p^{\\text{var}} - \\left(p-1\\right)\\,h_{p-1}^{\\text{var}} & =  \\sum_{j=1}^p\\left(x_j - h_p^{\\text{ave}}\\right)^2 - \\sum_{j=1}^{p-1}\\left(x_j - h_{p-1}^{\\text{ave}}\\right)^2 \\\\\n",
    "& = \\left[\\left(x_p - h_p^{\\text{ave}}\\right)^2 + \\sum_{j=1}^{p-1}\\left(x_j - h_p^{\\text{ave}}\\right)^2 \\right] - \\sum_{j=1}^{p-1}\\left(x_j - h_{p-1}^{\\text{ave}}\\right)^2 \\\\\n",
    "& = \\left(x_p - h_p^{\\text{ave}}\\right)^2 + \\left[\\sum_{j=1}^{p-1}\\left(x_j - h_p^{\\text{ave}}\\right)^2 - \\sum_{j=1}^{p-1}\\left(x_j - h_{p-1}^{\\text{ave}}\\right)^2\\right] \\\\\n",
    "& = \\left(x_p - h_p^{\\text{ave}}\\right)^2 + \\sum_{j=1}^{p-1}\\left[\\left(x_j - h_p^{\\text{ave}}\\right)^2 - \\left(x_j - h_{p-1}^{\\text{ave}}\\right)^2\\right] \\\\\n",
    "\\end{split}\n",
    "\\end{equation}\n",
    "\n",
    "We now use the identity $a^2 - b^2 = \\left(a-b\\right)\\left(a+b\\right)$ to simplify each summand in Equation (5) as follows\n",
    "\n",
    "\\begin{equation}\n",
    "\\begin{split}\n",
    "p\\,h_p^{\\text{var}} - \\left(p-1\\right)\\,h_{p-1}^{\\text{var}} & = \\left(x_p - h_p^{\\text{ave}}\\right)^2 + \\sum_{j=1}^{p-1}\\left(h_{p-1}^{\\text{ave}} - h_p^{\\text{ave}}\\right) \\left(2 x_j - h_{p}^{\\text{ave}}-h_{p-1}^{\\text{ave}}\\right) \\\\\n",
    " & = \\left(x_p - h_p^{\\text{ave}}\\right)^2 + \\left(h_{p-1}^{\\text{ave}} - h_p^{\\text{ave}}\\right) \\sum_{j=1}^{p-1} \\left(2 x_j - h_{p}^{\\text{ave}}-h_{p-1}^{\\text{ave}}\\right)\\\\\n",
    "\\end{split}\n",
    "\\end{equation}\n",
    "\n",
    "Notice, the last summation in Equation above can be written equivalently as\n",
    "\n",
    "\\begin{equation}\n",
    "\\begin{split}\n",
    "\\sum_{j=1}^{p-1} \\left(2 x_j - h_{p}^{\\text{ave}}-h_{p-1}^{\\text{ave}}\\right) & = \\left(2\\sum_{j=1}^{p-1} x_j\\right) - \\left(p-1\\right) \\left( h_{p}^{\\text{ave}} + h_{p-1}^{\\text{ave}} \\right)\\\\\n",
    "& = 2\\left(p-1\\right)h_{p-1}^{\\text{ave}} - \\left(p-1\\right) \\left( h_{p}^{\\text{ave}} + h_{p-1}^{\\text{ave}} \\right)\\\\\n",
    "& = \\left(p-1\\right) h_{p-1}^{\\text{ave}} - \\left(p-1\\right) h_{p}^{\\text{ave}} \\\\ \n",
    "& = \\left(p \\,h_{p}^{\\text{ave}} - x_p\\right) - \\left(p-1\\right) h_{p}^{\\text{ave}} \\\\ \n",
    "& = h_{p}^{\\text{ave}} - x_p\n",
    "\\end{split}\n",
    "\\end{equation}\n",
    "\n",
    "where we have made use of the fact that $\\left(p-1\\right) h_{p-1}^{\\text{ave}} = p \\,h_{p}^{\\text{ave}} - x_p$.\n",
    "\n",
    "Substituting the result above into (6) we now have\n",
    "\n",
    "\\begin{equation}\n",
    "\\begin{split}\n",
    "p\\,h_p^{\\text{var}} - \\left(p-1\\right)\\,h_{p-1}^{\\text{var}} & = \\left(x_p - h_p^{\\text{ave}}\\right)^2 + \\left(h_{p-1}^{\\text{ave}} - h_p^{\\text{ave}}\\right)  \\left(h_{p}^{\\text{ave}} - x_p\\right)\\\\\n",
    " & = \\left(x_p - h_p^{\\text{ave}}\\right)\\left(x_p - h_{p-1}^{\\text{ave}}\\right)\n",
    "\\end{split}\n",
    "\\end{equation}\n",
    "\n",
    "A little re-arrangement finally gives \n",
    "\n",
    "\n",
    "\\begin{equation}\n",
    "h_{p}^{\\text{var}} = \\frac{p-1}{p}h_{p-1}^{\\text{var}} + \\frac{1}{p}\\left(x_p^{\\,} - h_{p}^{\\text{ave}}\\right)\\left(x_p^{\\,} - h_{p-1}^{\\text{ave}}\\right)\n",
    "\\end{equation}"
   ]
  }
 ],
 "metadata": {
  "celltoolbar": "Slideshow",
  "kernelspec": {
   "display_name": "Python 3",
   "language": "python",
   "name": "python3"
  },
  "language_info": {
   "codemirror_mode": {
    "name": "ipython",
    "version": 3
   },
   "file_extension": ".py",
   "mimetype": "text/x-python",
   "name": "python",
   "nbconvert_exporter": "python",
   "pygments_lexer": "ipython3",
   "version": "3.7.1"
  },
  "toc": {
   "colors": {
    "hover_highlight": "#DAA520",
    "navigate_num": "#000000",
    "navigate_text": "#333333",
    "running_highlight": "#FF0000",
    "selected_highlight": "#FFD700",
    "sidebar_border": "#EEEEEE",
    "wrapper_background": "#FFFFFF"
   },
   "moveMenuLeft": true,
   "nav_menu": {
    "height": "85.3667px",
    "width": "251.1px"
   },
   "navigate_menu": true,
   "number_sections": true,
   "sideBar": true,
   "threshold": 4,
   "toc_cell": false,
   "toc_section_display": "block",
   "toc_window_display": false,
   "widenNotebook": false
  }
 },
 "nbformat": 4,
 "nbformat_minor": 2
}
