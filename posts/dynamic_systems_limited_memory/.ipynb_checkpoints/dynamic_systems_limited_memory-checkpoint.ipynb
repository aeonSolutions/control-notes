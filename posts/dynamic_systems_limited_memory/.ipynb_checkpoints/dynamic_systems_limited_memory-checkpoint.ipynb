{
 "cells": [
  {
   "cell_type": "markdown",
   "metadata": {},
   "source": [
    "#  Dynamic systems with limited memory"
   ]
  },
  {
   "cell_type": "markdown",
   "metadata": {},
   "source": [
    "In this short post we pick up on our previous conversation on [one dimensional convolutions](https://blog.dgsix.com/posts/one_dimensional_convolutions/One_dimensional_convolutions.html), discussing their generalization called *dynamic systems with limited memory*.\n",
    "\n",
    "You can skip around this document to particular subsections via the hyperlinks below."
   ]
  },
  {
   "cell_type": "markdown",
   "metadata": {},
   "source": [
    "-  [Dynamic systems with limited memory](#dynamic-systems-intro)\n",
    "-  [A range of examples](#examples)"
   ]
  },
  {
   "cell_type": "code",
   "execution_count": 1,
   "metadata": {},
   "outputs": [],
   "source": [
    "## This code cell will not be shown in the HTML version of this notebook\n",
    "# imports from custom library for animations\n",
    "import sys\n",
    "sys.path.append('../../')\n",
    "from demo_libraries import dyamic_systems_limited_memory_library as dynalib\n",
    "\n",
    "# import standard libs\n",
    "import numpy as np\n",
    "import pandas as pd\n",
    "from IPython.display import clear_output\n",
    "\n",
    "# path to data\n",
    "datapath = '../../datasets/plain_timeseries/'\n",
    "\n",
    "# This is needed to compensate for matplotlib notebook's tendancy to blow up images when plotted inline\n",
    "%matplotlib notebook\n",
    "from matplotlib import rcParams\n",
    "rcParams['figure.autolayout'] = True\n",
    "\n",
    "%load_ext autoreload\n",
    "%autoreload 2"
   ]
  },
  {
   "cell_type": "markdown",
   "metadata": {},
   "source": [
    "<a id='dynamic-systems-intro'></a>\n",
    "## Dynamic systems with limited memory"
   ]
  },
  {
   "cell_type": "markdown",
   "metadata": {},
   "source": [
    "A one dimensional convolution consists of a simple linear combination of $D$ consecutive elements of an ordered sequence\n",
    "\n",
    "\\begin{equation}\n",
    "h_{p} = w_1x_{p-1} + w_2x_{p-2} + \\cdots + w_{D}x_{p-D}.\n",
    "\\end{equation}\n",
    "\n",
    "More generally, instead of a linear combination we can use any general function $f\\left(\\cdot\\right)$ one desires asas \n",
    "\n",
    "\\begin{equation}\n",
    "h_{p} = f\\left(x_{p-1},x_{p-2},\\cdots,x_{p-D}\\right).\n",
    "\\end{equation}\n",
    "\n",
    "Such a functional relationship is generally referred to as a *dynamic system with limited memory*.  Breaking this jargon-phrase apart, the \"dynamic system\" part simply refers to the fact that the function $f\\left(\\cdot\\right)$ takes in elements of a naturally ordered sequence (like a time series).  The \"limited memory\" part simply refers to the fact that each output $h_p$ is *only* dependent on the previous $D$ elements of an input sequence $(x_{p-1},x_{p-2},\\cdots,x_{p-D}$ (that is, it only has \"memory\" of these inputs)."
   ]
  },
  {
   "cell_type": "markdown",
   "metadata": {},
   "source": [
    "<a id='examples'></a>\n",
    "## A range of examples"
   ]
  },
  {
   "cell_type": "markdown",
   "metadata": {},
   "source": [
    "Dynamic systems with limited memory - where $f$ is chosen based on particular specifications - are used throughout the sciences, economics, and engineering.  Indeed we have already seen several specific examples in the form of the [moving average](https://blog.dgsix.com/posts/one_dimensional_convolutions/One_dimensional_convolutions.html) and various [convolutions](https://blog.dgsix.com/posts/one_dimensional_convolutions/One_dimensional_convolutions.html#generalizing-moving-average).  Below we briefly illustrate a few additional examples, including those that output is *vector-valued*, that is systems that take the form\n",
    "\n",
    "\\begin{equation}\n",
    "\\mathbf{h}_{p} = f\\left(x_{p-1},x_{p-2},\\cdots,x_{p-D}\\right)\n",
    "\\end{equation}\n",
    "\n",
    "where $\\mathbf{h}$ is some $M$ length vector.  These often arise as some kind of *histogram* that summarizes the input values $x_{p-1},x_{p-2},\\cdots,x_{p-D}$ somehow, when using classical signal processing tools like the Discrete Cosine Transform, and when using a multi-layer perceptron."
   ]
  },
  {
   "cell_type": "markdown",
   "metadata": {},
   "source": [
    "#### <span style=\"color:#a50e3e;\">Example 1: </span>  A maximum intake"
   ]
  },
  {
   "cell_type": "markdown",
   "metadata": {},
   "source": [
    "A simple example (which we have not seen previously) is the *maximum* system defined as \n",
    "\n",
    "\\begin{equation}\n",
    "h_{p} = \\text{maximum}\\left(x_{p-1},x_{p-2},\\cdots,x_{p-D}\\right)\n",
    "\\end{equation}"
   ]
  },
  {
   "cell_type": "markdown",
   "metadata": {},
   "source": [
    "which simply outputs the maximum value in a $D$ length window of the input.  This simple system can be implemented in `Python` as shown below.  This `model` function takes in the input sequence `x` and a window-length $D$ and returns the desired transformation $h$."
   ]
  },
  {
   "cell_type": "code",
   "execution_count": 9,
   "metadata": {},
   "outputs": [],
   "source": [
    "# a simple implementation of the maximum system\n",
    "def model(x,D):\n",
    "    # set initial condition\n",
    "    h = [v for v in x[:D]]\n",
    "    \n",
    "    # loop over remainder of sequence and take maximum of each D length window\n",
    "    for p in range(len(x) - D):\n",
    "        # compute maximum of current window and store\n",
    "        h_p = np.max(x[p:p+D])\n",
    "        h.append(h_p)\n",
    "    return np.array(h)"
   ]
  },
  {
   "cell_type": "markdown",
   "metadata": {},
   "source": [
    "Below we show an animation of the maximum system computed over an input sequence shown in black.  The window (whose size here is $D = 5$) is shown moving from left to right, strattled on both sides by vertical blue guide-lines.  The resulting maximum computation is then shown sequentially in orange."
   ]
  },
  {
   "cell_type": "code",
   "execution_count": 24,
   "metadata": {},
   "outputs": [
    {
     "data": {
      "text/html": [
       "\n",
       "<video width=\"1000\" height=\"400\" controls loop>\n",
       "  <source src=\"videos/animation_1.mp4\" type=\"video/mp4\">\n",
       "  </video>\n"
      ],
      "text/plain": [
       "<IPython.core.display.HTML object>"
      ]
     },
     "execution_count": 24,
     "metadata": {},
     "output_type": "execute_result"
    }
   ],
   "source": [
    "## This code cell will not be shown in the HTML version of this notebook\n",
    "# generate test series\n",
    "x = []\n",
    "for t in range(50):\n",
    "    x_t = 0.1*t*np.sin(0.5*t)\n",
    "    x.append(x_t)    \n",
    "x = np.array(x)\n",
    "\n",
    "# produce moving average time series\n",
    "D = 5\n",
    "y = model(x,D)\n",
    "\n",
    "# run animator\n",
    "demo = dynalib.dynamic_systems_animators.Visualizer()\n",
    "demo.animate_system(x,y,D,savepath='videos/animation_1.mp4',fps=5)\n",
    "clear_output()\n",
    "\n",
    "# import video into notebook\n",
    "from IPython.display import HTML\n",
    "HTML(\"\"\"\n",
    "<video width=\"1000\" height=\"400\" controls loop>\n",
    "  <source src=\"videos/animation_1.mp4\" type=\"video/mp4\">\n",
    "  </video>\n",
    "\"\"\")"
   ]
  },
  {
   "cell_type": "markdown",
   "metadata": {},
   "source": [
    "Below we show the result of applying the maximum system to this same input series, adjusting the window size $D$ from $D=1$ to $D=19$.  As the value of $D$ increases the corresponding maximum sequence starts to look more and more like a bounding [envelope](https://en.wikipedia.org/wiki/Envelope_(waves))."
   ]
  },
  {
   "cell_type": "code",
   "execution_count": 22,
   "metadata": {
    "scrolled": false
   },
   "outputs": [
    {
     "data": {
      "text/html": [
       "\n",
       "<video width=\"1000\" height=\"400\" controls loop>\n",
       "  <source src=\"videos/animation_2.mp4\" type=\"video/mp4\">\n",
       "  </video>\n"
      ],
      "text/plain": [
       "<IPython.core.display.HTML object>"
      ]
     },
     "execution_count": 22,
     "metadata": {},
     "output_type": "execute_result"
    }
   ],
   "source": [
    "## This code cell will not be shown in the HTML version of this notebook\n",
    "# run animator    \n",
    "demo = dynalib.dynamic_systems_animators.Visualizer()\n",
    "params = np.arange(1,20)\n",
    "func = lambda x,D,f=maximum: model(x,D,f)\n",
    "demo.animate_system_range(x,func,params,savepath='videos/animation_2.mp4',fps=4)\n",
    "clear_output()\n",
    "\n",
    "\n",
    "from IPython.display import HTML\n",
    "HTML(\"\"\"\n",
    "<video width=\"1000\" height=\"400\" controls loop>\n",
    "  <source src=\"videos/animation_2.mp4\" type=\"video/mp4\">\n",
    "  </video>\n",
    "\"\"\")"
   ]
  },
  {
   "cell_type": "markdown",
   "metadata": {},
   "source": [
    "#### <span style=\"color:#a50e3e;\">Example 2: </span>  Limited memory normalized histogram"
   ]
  },
  {
   "cell_type": "markdown",
   "metadata": {},
   "source": [
    "Perhaps the simplest example of a vector-valued dynamic system is a running *histogram*.  That is, a function that takes in $D$ sequential elements of an ordered input sequence and outputs a histogram summarizing the content of this window of values.  A range basic choices need be made when defining a histogram - including the number of bins to use, the value of these bins, lower and upper bounds for the histogram, etc.,  Below we define a simple `histogram_function` in `Python` that takes in the snippet of input values $x_{p-1},x_{p-2},\\cdots,x_{p-D}$ and provides a few optional input arguments for controlling these basic histogram parameters.  This histogram is normalized near the end so that it can be treated like a [discrete probability distribution](https://jermwatt.github.io/machine_learning_refined/notes/7_Linear_multiclass_classification/7_5_Categorical.html), and returned along with the bins used.  This is an example of a function $f\\left(\\cdot\\right)$ in the general dynamic system shown in Equation (4)."
   ]
  },
  {
   "cell_type": "code",
   "execution_count": 10,
   "metadata": {},
   "outputs": [],
   "source": [
    "## This code cell will not be shown in the HTML version of this notebook\n",
    "def histogram_function(x,**kwargs):\n",
    "    # define range of histogram and resolution\n",
    "    lower_bound = -1\n",
    "    upper_bound = 1\n",
    "    resolution = 20\n",
    "    if 'lower_bound' in kwargs:\n",
    "        lower_bound = kwargs['lower_bound']\n",
    "    if 'upper_bound' in kwargs:\n",
    "        upper_bound = kwargs['upper_bound']\n",
    "    if 'resolution' in kwargs:\n",
    "        resolution = kwargs['resolution']\n",
    "        \n",
    "    # clip input series based on lower bound / upper bound\n",
    "    x = np.array(x)\n",
    "    ind = np.argwhere(x < lower_bound)\n",
    "    if len(ind) > 0:\n",
    "        x[ind] = lower_bound\n",
    "    ind = np.argwhere(x > upper_bound)\n",
    "    if len(ind) > 0:\n",
    "        x[ind] = upper_bound\n",
    "    \n",
    "    # make base histogram\n",
    "    h,bins = np.histogram(x, bins=np.linspace(lower_bound,upper_bound,resolution+1), density=False)\n",
    "    h = np.array([v/len(x) for v in h])\n",
    "    return h,bins"
   ]
  },
  {
   "cell_type": "markdown",
   "metadata": {},
   "source": [
    "Below we animate the result of applying this dynamic system on a toy input sequence, shown in black in the top panel of the figure. In each frame of the animation the current window (here $D = 10$) is once again illustrated by two vertical blue guide-lines, and here the points inside each window are highlighted orange.  In the middle panel of the Figure we show the normalized histogram of values in each window in magenta, and in the bottom we illustrate all of the histograms generated up to the current frame via a *heatmap*.  Here each histogram is rotated $90$ degrees, and we view them from above.  The darker orange colors correspond to higher values in each histogram."
   ]
  },
  {
   "cell_type": "code",
   "execution_count": null,
   "metadata": {
    "scrolled": false
   },
   "outputs": [],
   "source": [
    "## This code cell will not be shown in the HTML version of this notebook\n",
    "# generate test series\n",
    "x = []\n",
    "for t in range(50):\n",
    "    x_t = np.sin(t) + t*0.2\n",
    "    x.append(x_t)  \n",
    "    \n",
    "# produce moving average time series\n",
    "D = 10\n",
    "func = lambda x: histogram_function(x,lower_bound=0,upper_bound=10,resolution=100)\n",
    "\n",
    "# general linear filter function - which takes in dynamic systems function f\n",
    "# for the sake of generality in the animation process\n",
    "def vector_model(x,D,f):\n",
    "    # initialize\n",
    "    h = []\n",
    "    \n",
    "    # loop over and create histograms\n",
    "    for p in range(len(x) - D + 2):\n",
    "        # make next element\n",
    "        x_p = x[p:p+D]\n",
    "        h_p,bins = f(x_p)\n",
    "        y.append(h_p)\n",
    "    return y\n",
    "\n",
    "# run animator\n",
    "demo = dynalib.dynamic_systems_animators.Visualizer()\n",
    "demo.animate_vector_histogram(x,D,vector_model,func,savepath='videos/animation_4.mp4',fps=5)\n",
    "clear_output()"
   ]
  },
  {
   "cell_type": "code",
   "execution_count": 15,
   "metadata": {},
   "outputs": [
    {
     "data": {
      "text/html": [
       "\n",
       "<video width=\"1000\" height=\"1000\" controls loop>\n",
       "  <source src=\"videos/animation_4.mp4\" type=\"video/mp4\">\n",
       "  </video>\n"
      ],
      "text/plain": [
       "<IPython.core.display.HTML object>"
      ]
     },
     "execution_count": 15,
     "metadata": {},
     "output_type": "execute_result"
    }
   ],
   "source": [
    "## This code cell will not be shown in the HTML version of this notebook\n",
    "from IPython.display import HTML\n",
    "HTML(\"\"\"\n",
    "<video width=\"1000\" height=\"1000\" controls loop>\n",
    "  <source src=\"videos/animation_4.mp4\" type=\"video/mp4\">\n",
    "  </video>\n",
    "\"\"\")"
   ]
  },
  {
   "cell_type": "markdown",
   "metadata": {},
   "source": [
    "#### <span style=\"color:#a50e3e;\">Example 3: </span>  The Discrete Cosine Transform and spectrograms"
   ]
  },
  {
   "cell_type": "markdown",
   "metadata": {},
   "source": [
    "The *Discrete Cosine Transform* (or DCT for short) is a common dynamic system employed with audio and more generally electrical signals for compression and other various processing tasks.  The gist of a DCT is illustrated in the image below (taken with permission [from this website](https://jermwatt.github.io/machine_learning_refined/notes/9_Feature_engineer_select/9_2_Histogram.html)) for a snippet of signal below.  Here the signal (left panel) is approximated by a weighted sum of cosine waves of increasing frequency (middle panel), with the resulting transformation, also called the signals *frequency* or *spectrum*, consisting of the magnitude of the coefficients of this transformation."
   ]
  },
  {
   "cell_type": "markdown",
   "metadata": {},
   "source": [
    "<figure>\n",
    "<img src=\"images/Figure_9_10.png\" width=\"80%\" height=\"auto\"/>\n",
    "<figcaption> <strong></em> \n",
    "</figcaption>\n",
    "</figure>"
   ]
  },
  {
   "cell_type": "markdown",
   "metadata": {},
   "source": [
    "A formulae for this DCT transformation can be found e.g., on [wikipedia](https://en.wikipedia.org/wiki/Discrete_cosine_transform), and can be used as the function $f\\left(\\cdot\\right)$ in Equation (4).  The DCT of a snippet can be computed in `Python` using [`scipy`](https://www.scipy.org/), and imported via the statement below\n",
    "\n",
    "```\n",
    "from scipy.fftpack import dct\n",
    "```\n",
    "\n",
    "Below we animate the process of generating DCT transformations for a moving window over an input signal.  At each frame the windowed signal (here $D = 128$) is highlighted in magenta.  As with the histogram example given above, here we illustrate each DCT contiguously in the bottom panel as a *heatmap* - viewing the histogram from above vertically.  Here blue denotes small values and red large ones. \n",
    "\n",
    " This view of the running DCT transformations is very similar to the concept of a [spectrogram](https://en.wikipedia.org/wiki/Spectrogram).  Also note that in machine learning such a dynamic system is often referred to as a [histogram-based feature transformation](https://jermwatt.github.io/machine_learning_refined/notes/9_Feature_engineer_select/9_2_Histogram.html).  "
   ]
  },
  {
   "cell_type": "code",
   "execution_count": 36,
   "metadata": {},
   "outputs": [],
   "source": [
    "## This code cell will not be shown in the HTML version of this notebook\n",
    "# general linear filter function\n",
    "def vector_model(x,D,f):\n",
    "    # filter input signal\n",
    "    y = []\n",
    "    for p in range(len(x) - D + 1):\n",
    "        # make next element\n",
    "        x_p = x[p:p+D]\n",
    "        h = np.abs(f(x_p))\n",
    "        y.append(h)\n",
    "    return np.array(y).T"
   ]
  },
  {
   "cell_type": "code",
   "execution_count": null,
   "metadata": {},
   "outputs": [],
   "source": [
    "## This code cell will not be shown in the HTML version of this notebook\n",
    "# load in data\n",
    "csvname =  'data/dog_audio.csv'\n",
    "data = pd.read_csv(csvname)\n",
    "x = np.array(data).flatten()\n",
    "\n",
    "# subsample data\n",
    "x = x[::40]\n",
    "x = x[100:]\n",
    "\n",
    "# normalize\n",
    "x_mean = np.mean(x)\n",
    "x_std = np.std(x)\n",
    "x = (x - x_mean)/x_std\n",
    "\n",
    "# produce moving average time series\n",
    "from scipy.fftpack import dct\n",
    "D = 80\n",
    "func = dct\n",
    "\n",
    "# run animator\n",
    "demo = dynalib.dynamic_systems_animators.Visualizer()\n",
    "demo.animate_dct_spectrogram(x,D,vector_model,func,savepath='videos/animation_5.mp4',fps=80)\n",
    "clear_output()"
   ]
  },
  {
   "cell_type": "code",
   "execution_count": 105,
   "metadata": {},
   "outputs": [
    {
     "data": {
      "text/html": [
       "\n",
       "<video width=\"1000\" height=\"1000\" controls loop>\n",
       "  <source src=\"videos/animation_5.mp4\" type=\"video/mp4\">\n",
       "  </video>\n"
      ],
      "text/plain": [
       "<IPython.core.display.HTML object>"
      ]
     },
     "execution_count": 105,
     "metadata": {},
     "output_type": "execute_result"
    }
   ],
   "source": [
    "## This code cell will not be shown in the HTML version of this notebook\n",
    "# load animation into notebook\n",
    "from IPython.display import HTML\n",
    "HTML(\"\"\"\n",
    "<video width=\"1000\" height=\"1000\" controls loop>\n",
    "  <source src=\"videos/animation_5.mp4\" type=\"video/mp4\">\n",
    "  </video>\n",
    "\"\"\")"
   ]
  },
  {
   "cell_type": "markdown",
   "metadata": {},
   "source": [
    "#### <span style=\"color:#a50e3e;\">Example 4: </span>  A multi-layer perceptron"
   ]
  },
  {
   "cell_type": "markdown",
   "metadata": {},
   "source": [
    "A [multi-layer perceptron](https://jermwatt.github.io/machine_learning_refined/notes/13_Multilayer_perceptrons/13_2_Multi_layer_perceptrons.html) can also be used as a function $f\\left(\\cdot\\right)$ in Equation (4).  In the top panel of the image below we show the same input signal used in the previous Example.  In the three panels below it we show the output of a random unit from the first, second, and third hidden layer of a three layer network with ReLU activations, respectively.  This network takes in precisely the windows (of size $D = 128$) of the signal shown in the previous DCT animation."
   ]
  },
  {
   "cell_type": "code",
   "execution_count": 2,
   "metadata": {},
   "outputs": [],
   "source": [
    "## This code cell will not be shown in the HTML version of this notebook\n",
    "# create initial weights for arbitrary feedforward network\n",
    "def initialize_network_weights(layer_sizes, scale):\n",
    "    # container for entire weight tensor\n",
    "    weights = []\n",
    "    \n",
    "    # loop over desired layer sizes and create appropriately sized initial \n",
    "    # weight matrix for each layer\n",
    "    for k in range(len(layer_sizes)-1):\n",
    "        # get layer sizes for current weight matrix\n",
    "        U_k = layer_sizes[k]\n",
    "        U_k_plus_1 = layer_sizes[k+1]\n",
    "\n",
    "        # make weight matrix\n",
    "        weight = scale*np.random.randn(U_k+1,U_k_plus_1)\n",
    "        weights.append(weight)\n",
    "\n",
    "    # re-express weights so that w_init[0] = omega_inner contains all \n",
    "    # internal weight matrices, and w_init = w contains weights of \n",
    "    # final linear combination in predict function\n",
    "    w_init = [weights[:-1],weights[-1]]\n",
    "    \n",
    "    return w_init"
   ]
  },
  {
   "cell_type": "code",
   "execution_count": 3,
   "metadata": {},
   "outputs": [],
   "source": [
    "## This code cell will not be shown in the HTML version of this notebook\n",
    "# a feature_transforms function for computing\n",
    "# U_L L layer perceptron units efficiently\n",
    "def activation(s):\n",
    "    return np.maximum(0,s)\n",
    "    \n",
    "def feature_transforms(a, w):    \n",
    "    # loop through each layer matrix\n",
    "    hidden_outputs = []\n",
    "    for W in w:\n",
    "        # compute inner product with current layer weights\n",
    "        a = W[0] + np.dot(a.T, W[1:])\n",
    "\n",
    "        # output of layer activation\n",
    "        a = activation(a).T\n",
    "        \n",
    "        # store hidden outputs\n",
    "        hidden_outputs.append(a)\n",
    "    return a,hidden_outputs\n",
    "\n",
    "# an implementation of our model employing a nonlinear feature transformation\n",
    "def model(x,w):    \n",
    "    # feature transformation \n",
    "    f,hidden_outputs = feature_transforms(x,w[0])\n",
    "    \n",
    "    # compute linear combination and return\n",
    "    a = w[1][0] + np.dot(f.T,w[1][1:])\n",
    "    return a.T\n",
    "\n",
    "# window input series\n",
    "def window_series(x,D):\n",
    "    xwins = []\n",
    "    for d in range(len(x) - D + 1):\n",
    "        x_p = x[d:d+D]\n",
    "        xwins.append(x_p)\n",
    "    xwins = np.array(xwins)\n",
    "    return xwins.T"
   ]
  },
  {
   "cell_type": "code",
   "execution_count": 4,
   "metadata": {},
   "outputs": [],
   "source": [
    "## This code cell will not be shown in the HTML version of this notebook\n",
    "# load in data\n",
    "csvname =  'data/dog_audio.csv'\n",
    "data = pd.read_csv(csvname)\n",
    "x = np.array(data).flatten()\n",
    "\n",
    "# subsample data\n",
    "x = x[::40]\n",
    "x = x[100:]\n",
    "\n",
    "# normalize\n",
    "x_mean = np.mean(x)\n",
    "x_std = np.std(x)\n",
    "x = (x - x_mean)/x_std\n",
    "\n",
    "# window series\n",
    "D = 128\n",
    "xwins = window_series(x,D)\n",
    "\n",
    "layer_sizes = [D,10,10,10,1]\n",
    "w = initialize_network_weights(layer_sizes,scale=0.5)\n",
    "a,hidden_outputs = feature_transforms(xwins,w[0])"
   ]
  },
  {
   "cell_type": "code",
   "execution_count": 25,
   "metadata": {},
   "outputs": [
    {
     "data": {
      "image/png": "[encoded data removed]",
      "text/plain": [
       "<Figure size 648x576 with 4 Axes>"
      ]
     },
     "metadata": {
      "needs_background": "light"
     },
     "output_type": "display_data"
    }
   ],
   "source": [
    "## This code cell will not be shown in the HTML version of this notebook\n",
    "import matplotlib.pyplot as plt\n",
    "from matplotlib import gridspec\n",
    "\n",
    "def plot_it(x,hidden_outputs):\n",
    "    # produce figure\n",
    "    fig = plt.figure(figsize = (9,8))\n",
    "    gs = gridspec.GridSpec(len(hidden_outputs)+1, 1) \n",
    "    ax = plt.subplot(gs[0]); \n",
    "    layer_colors = ['gold', 'deepskyblue', 'turquoise']\n",
    "\n",
    "    # plot \n",
    "    ax.plot(x,c='k')\n",
    "    \n",
    "    # plot hidden layers\n",
    "    for layer in range(len(hidden_outputs)):\n",
    "        ax1 = plt.subplot(gs[layer+1]); \n",
    "\n",
    "        h = hidden_outputs[layer]\n",
    "        c = layer_colors[layer]\n",
    "\n",
    "        unit = np.random.permutation(h.shape[0])[0]\n",
    "        u = 'k'\n",
    "        h_u = h[unit]\n",
    "        ax1.plot(h_u,color=u,linewidth=4)\n",
    "        ax1.plot(h_u,color=c,linewidth=2)\n",
    "    plt.show()\n",
    "    \n",
    "plot_it(x,hidden_outputs)"
   ]
  }
 ],
 "metadata": {
  "kernelspec": {
   "display_name": "Python 3",
   "language": "python",
   "name": "python3"
  },
  "language_info": {
   "codemirror_mode": {
    "name": "ipython",
    "version": 3
   },
   "file_extension": ".py",
   "mimetype": "text/x-python",
   "name": "python",
   "nbconvert_exporter": "python",
   "pygments_lexer": "ipython3",
   "version": "3.6.6"
  },
  "toc": {
   "colors": {
    "hover_highlight": "#DAA520",
    "navigate_num": "#000000",
    "navigate_text": "#333333",
    "running_highlight": "#FF0000",
    "selected_highlight": "#FFD700",
    "sidebar_border": "#EEEEEE",
    "wrapper_background": "#FFFFFF"
   },
   "moveMenuLeft": true,
   "nav_menu": {
    "height": "138px",
    "width": "252px"
   },
   "navigate_menu": true,
   "number_sections": true,
   "sideBar": true,
   "threshold": 4,
   "toc_cell": false,
   "toc_section_display": "block",
   "toc_window_display": false,
   "widenNotebook": false
  }
 },
 "nbformat": 4,
 "nbformat_minor": 2
}
